{
 "cells": [
  {
   "cell_type": "code",
   "execution_count": 1,
   "metadata": {},
   "outputs": [],
   "source": [
    "import pandas as pd\n",
    "import math\n",
    "import os"
   ]
  },
  {
   "cell_type": "code",
   "execution_count": 2,
   "metadata": {},
   "outputs": [
    {
     "output_type": "stream",
     "name": "stdout",
     "text": [
      "{'Heptanol':       Timesta+A1:J1mps (sec)       ZnO (1)       ZnO (2)       ZnO (3)  \\\n0                   0.000009  7.740000e-10  3.028200e-07  1.332600e-08   \n1                   2.981646  1.150800e-08  2.955960e-07  1.503100e-08   \n2                   5.951279  1.164000e-08  2.985380e-07  1.300000e-08   \n3                   8.889494  1.139700e-08  3.051830e-07  1.305800e-08   \n4                  11.895487  8.972000e-09  2.375300e-07  7.302000e-09   \n...                      ...           ...           ...           ...   \n6868            20811.378324  1.416000e-08  2.425700e-07  1.559200e-08   \n6869            20814.387244  1.684000e-08  2.796200e-07  1.222800e-08   \n6870            20817.388022  1.315500e-08  2.147550e-07  2.374100e-08   \n6871            20820.404342  1.562500e-08  2.394680e-07  7.314000e-09   \n6872            20823.416638  1.898300e-08           NaN           NaN   \n\n      SnO2 (1)  SnO2 (2)  SnO2 (3)       AZO (1)       AZO (2)       AZO (3)  \n0     0.000072  0.000065  0.000053  1.267340e-07  1.125030e-06  4.576990e-07  \n1     0.000072  0.000064  0.000054  1.277770e-07  1.244120e-06  5.968640e-07  \n2     0.000073  0.000065  0.000054  1.306230e-07  1.278440e-06  5.696490e-07  \n3     0.000073  0.000065  0.000054  1.175820e-07  1.284060e-06  5.729060e-07  \n4     0.000073  0.000066  0.000055  1.184220e-07  1.281620e-06  5.641550e-07  \n...        ...       ...       ...           ...           ...           ...  \n6868  0.000046  0.000033  0.000023  9.812700e-08  2.954870e-07  2.393610e-07  \n6869  0.000046  0.000033  0.000023  1.015750e-07  2.860320e-07  2.260690e-07  \n6870  0.000045  0.000033  0.000023  1.061030e-07  2.776210e-07  2.313090e-07  \n6871  0.000045  0.000033  0.000022  9.745300e-08  2.927320e-07  2.392860e-07  \n6872       NaN       NaN       NaN           NaN           NaN           NaN  \n\n[6873 rows x 10 columns], '2-ethylfenchol':       Timesta+A1:J1mps (sec)       ZnO (1)       ZnO (2)       ZnO (3)  \\\n0                   0.000009  1.647000e-09  4.272320e-07  1.345000e-08   \n1                   3.029072  5.540000e-10  3.222970e-07  1.168800e-08   \n2                   6.041412  4.158000e-09  2.920350e-07  1.294700e-08   \n3                   9.058390  4.244000e-09  2.926090e-07  1.226800e-08   \n4                  12.066400  5.031000e-09  2.938710e-07  1.145600e-08   \n...                      ...           ...           ...           ...   \n6257            18934.061853  7.716000e-09  2.044350e-07  8.121000e-09   \n6258            18937.090214  9.107000e-09  2.508080e-07  1.156800e-08   \n6259            18940.233457  4.836000e-09  1.922050e-07  5.814000e-09   \n6260            18943.258905  7.953000e-09  2.244480e-07  8.777000e-09   \n6261            18946.265489  6.270000e-09  2.051670e-07  7.150000e-09   \n\n      SnO2 (1)  SnO2 (2)  SnO2 (3)       AZO (1)   AZO (2)       AZO (3)  \n0     0.000061  0.000063  0.000038  1.607100e-07  0.000002  9.995800e-07  \n1     0.000061  0.000062  0.000037  1.652660e-07  0.000003  1.168350e-06  \n2     0.000063  0.000062  0.000038  1.700180e-07  0.000003  1.185080e-06  \n3     0.000064  0.000062  0.000038  1.815340e-07  0.000003  1.171030e-06  \n4     0.000063  0.000063  0.000038  1.695950e-07  0.000003  1.272220e-06  \n...        ...       ...       ...           ...       ...           ...  \n6257  0.000036  0.000035  0.000022  2.023840e-07  0.000002  6.404070e-07  \n6258  0.000036  0.000035  0.000021  2.034810e-07  0.000002  7.198600e-07  \n6259  0.000036  0.000035  0.000021  2.058760e-07  0.000002  6.288560e-07  \n6260  0.000037  0.000034  0.000022  2.051440e-07  0.000002  6.455010e-07  \n6261  0.000037  0.000033  0.000021  2.055840e-07  0.000002  6.269710e-07  \n\n[6262 rows x 10 columns], 'Octanal':       Timesta+A1:J1mps (sec)       ZnO (1)       ZnO (2)       ZnO (3)  \\\n0                   0.000009  1.856800e-08  4.924800e-08  4.482000e-09   \n1                   3.001769  1.947500e-08  3.656000e-08  4.460000e-09   \n2                   6.008686  2.309200e-08  3.597400e-08  5.342000e-09   \n3                   9.017034  2.462400e-08  3.719300e-08  5.375000e-09   \n4                  12.021591  2.280400e-08  3.976000e-08  5.679000e-09   \n...                      ...           ...           ...           ...   \n6141            18599.250048  9.945000e-09  1.748750e-07  1.406000e-08   \n6142            18602.263882  9.070000e-09  1.749400e-07  1.374000e-08   \n6143            18605.427956  1.010600e-08  1.762470e-07  1.406100e-08   \n6144            18608.525364  1.011500e-08  1.715650e-07  1.533400e-08   \n6145            18611.577173  1.004700e-08  1.746200e-07  1.485900e-08   \n\n      SnO2 (1)  SnO2 (2)      SnO2 (3)       AZO (1)       AZO (2)  \\\n0     0.000004  0.000004  1.656950e-06  1.596390e-07  3.303200e-07   \n1     0.000004  0.000005  1.710150e-06  1.435070e-07  3.250150e-07   \n2     0.000005  0.000005  1.709600e-06  1.418400e-07  3.258850e-07   \n3     0.000005  0.000005  1.768240e-06  1.429310e-07  3.238870e-07   \n4     0.000005  0.000005  1.725430e-06  1.519890e-07  3.235780e-07   \n...        ...       ...           ...           ...           ...   \n6141  0.000001  0.000001  9.255800e-07  5.485770e-07  1.666530e-07   \n6142  0.000001  0.000001  9.689500e-07  5.376420e-07  1.688970e-07   \n6143  0.000001  0.000001  9.408200e-07  5.382290e-07  1.656330e-07   \n6144  0.000001  0.000001  9.311600e-07  5.411160e-07  1.663610e-07   \n6145  0.000001  0.000001  8.995800e-07  5.453460e-07  1.659990e-07   \n\n           AZO (3)  \n0     4.036360e-07  \n1     4.010650e-07  \n2     3.996660e-07  \n3     3.970370e-07  \n4     3.911000e-07  \n...            ...  \n6141  1.292130e-07  \n6142  1.303260e-07  \n6143  1.294070e-07  \n6144  1.292800e-07  \n6145  1.286550e-07  \n\n[6146 rows x 10 columns], 'Eugenol':       Timesta+A1:J1mps (sec)       ZnO (1)       ZnO (2)       ZnO (3)  \\\n0                   0.000008  7.199000e-09  5.118200e-08  3.889000e-09   \n1                   3.027717 -3.853000e-09  3.847500e-08  2.255000e-09   \n2                   6.026630  4.989000e-09  3.799600e-08  3.410000e-09   \n3                   9.006528  4.652000e-09  4.194300e-08  4.096000e-09   \n4                  11.972261  4.393000e-09  4.198900e-08  3.626000e-09   \n...                      ...           ...           ...           ...   \n3208             9657.848000  6.900000e-10  2.076100e-08  5.990000e-10   \n3209             9660.861760 -6.812000e-09  1.897500e-08  2.842000e-09   \n3210             9663.866051 -6.490000e-10 -6.960000e-10 -7.200000e-10   \n3211             9666.871945 -1.361000e-09  1.510000e-10  3.820000e-10   \n3212             9669.883266  4.490000e-10  1.030000e-10 -9.910000e-10   \n\n          SnO2 (1)      SnO2 (2)      SnO2 (3)       AZO (1)       AZO (2)  \\\n0     3.854610e-06  1.316780e-05  4.766110e-06  1.216010e-07  3.565500e-08   \n1     3.957070e-06  1.331840e-05  4.815940e-06  1.526630e-07  2.522500e-08   \n2     4.121880e-06  1.369440e-05  4.956810e-06  1.764120e-07  2.281500e-08   \n3     4.303610e-06  1.388340e-05  4.978210e-06  2.034290e-07  2.357600e-08   \n4     4.344200e-06  1.406560e-05  5.232870e-06  2.318930e-07  2.294500e-08   \n...            ...           ...           ...           ...           ...   \n3208  2.512930e-07  3.963910e-07  4.759760e-07  3.556320e-07  1.742900e-08   \n3209  2.924860e-07  3.269000e-09 -5.130000e-10 -6.940000e-10 -8.170000e-10   \n3210 -5.920000e-10 -5.630000e-10 -6.030000e-10 -8.320000e-10 -1.022000e-09   \n3211  8.100000e-11 -1.298000e-09  8.900000e-11  2.767000e-09  8.500000e-10   \n3212 -1.021000e-09 -8.080000e-10 -7.930000e-10 -7.550000e-10           NaN   \n\n           AZO (3)  \n0     6.601000e-09  \n1     9.468000e-09  \n2     7.306000e-09  \n3     6.417000e-09  \n4     6.836000e-09  \n...            ...  \n3208  3.670000e-09  \n3209 -7.790000e-10  \n3210 -3.350000e-10  \n3211 -1.564000e-09  \n3212           NaN  \n\n[3213 rows x 10 columns], 'Cis-3-hexenol':       Timesta+A1:J1mps (sec)       ZnO (1)       ZnO (2)       ZnO (3)  \\\n0                   0.000009  9.254000e-09  2.767400e-08  5.052000e-09   \n1                   3.034466  7.080000e-10  1.655500e-08  1.961000e-09   \n2                   6.025676  6.775000e-09  1.845600e-08  3.511000e-09   \n3                   8.985591  6.346000e-09  1.845500e-08  3.737000e-09   \n4                  11.994744  6.470000e-09  1.982700e-08  3.745000e-09   \n...                      ...           ...           ...           ...   \n3327            10072.484676  7.280000e-09  1.779800e-08  3.363000e-09   \n3328            10075.497299  7.378000e-09  1.798900e-08  3.198000e-09   \n3329            10078.506011 -1.500000e-10  1.798300e-08  2.962000e-09   \n3330            10081.608193  7.156000e-09  1.902100e-08  3.296000e-09   \n3331            10084.616101  6.294000e-09  1.811100e-08  3.274000e-09   \n\n          SnO2 (1)  SnO2 (2)  SnO2 (3)       AZO (1)       AZO (2)  \\\n0     5.730630e-06  0.000011  0.000005  3.709390e-07  1.280640e-07   \n1     5.408570e-06  0.000011  0.000005  4.374390e-07  1.301020e-07   \n2     5.411430e-06  0.000011  0.000005  4.747380e-07  1.309970e-07   \n3     5.378770e-06  0.000012  0.000005  5.034820e-07  1.327330e-07   \n4     5.346570e-06  0.000012  0.000005  5.112280e-07  1.342000e-07   \n...            ...       ...       ...           ...           ...   \n3327  1.008850e-06  0.000001  0.000001  5.661530e-07  3.578520e-07   \n3328  1.035040e-06  0.000001  0.000001  5.661810e-07  3.562160e-07   \n3329  1.014140e-06  0.000001  0.000001  5.652270e-07  3.570340e-07   \n3330  1.025280e-06  0.000001  0.000001  5.698790e-07  3.550650e-07   \n3331  9.738900e-07  0.000001  0.000001           NaN           NaN   \n\n           AZO (3)  \n0     3.265000e-08  \n1     2.244100e-08  \n2     1.956700e-08  \n3     1.996700e-08  \n4     1.688400e-08  \n...            ...  \n3327  4.842220e-07  \n3328  4.834680e-07  \n3329  4.816840e-07  \n3330  4.790900e-07  \n3331           NaN  \n\n[3332 rows x 10 columns], 'Decanal':       Timesta+A1:J1mps (sec)       ZnO (1)       ZnO (2)       ZnO (3)  \\\n0                   0.000009 -3.590000e-09  8.160000e-08  3.696000e-09   \n1                   3.045556  3.166000e-09  8.264300e-08  8.956000e-09   \n2                   6.067981  5.127000e-09  8.577000e-08  8.834000e-09   \n3                   9.052900  4.336000e-09  9.864800e-08  1.025600e-08   \n4                  12.057105  3.900000e-09  1.121810e-07  8.613000e-09   \n...                      ...           ...           ...           ...   \n3190             9608.510495  6.164000e-09  7.635000e-08  6.212000e-09   \n3191             9611.521175  6.338000e-09  8.075500e-08  7.124000e-09   \n3192             9614.543452  5.757000e-09  7.892500e-08  7.052000e-09   \n3193             9617.564799  5.903000e-09  7.838500e-08  7.027000e-09   \n3194             9620.554353  6.150000e-09           NaN           NaN   \n\n      SnO2 (1)  SnO2 (2)  SnO2 (3)       AZO (1)       AZO (2)       AZO (3)  \n0     0.000002  0.000004  0.000002  1.669200e-07  3.585600e-08  7.575000e-09  \n1     0.000002  0.000003  0.000002  1.876970e-07  2.703000e-08  7.793000e-09  \n2     0.000002  0.000004  0.000002  1.925660e-07  2.644800e-08  7.151000e-09  \n3     0.000002  0.000004  0.000002  1.888810e-07  2.587300e-08  6.681000e-09  \n4     0.000002  0.000004  0.000002  1.797100e-07  2.418900e-08  6.139000e-09  \n...        ...       ...       ...           ...           ...           ...  \n3190  0.000004  0.000006  0.000005  5.778930e-07  1.458610e-07  2.789500e-08  \n3191  0.000004  0.000006  0.000005  5.705210e-07  1.458740e-07  2.654700e-08  \n3192  0.000004  0.000006  0.000005  5.724400e-07  1.422670e-07  2.652500e-08  \n3193  0.000004  0.000006  0.000005  5.750240e-07  1.455620e-07  2.621000e-08  \n3194       NaN       NaN       NaN           NaN           NaN           NaN  \n\n[3195 rows x 10 columns], '2,3,5 trymethylpyrazine':       Timesta+A1:J1mps (sec)       ZnO (1)       ZnO (2)       ZnO (3)  \\\n0                   0.000009  9.365000e-09  3.116700e-08  2.511000e-09   \n1                   3.009879 -4.791000e-09  1.863300e-08 -2.820000e-10   \n2                   6.003995  3.784000e-09  2.031600e-08  2.261000e-09   \n3                   8.997214  3.668000e-09  2.006700e-08  2.212000e-09   \n4                  11.988427  2.896000e-09  1.974100e-08  1.807000e-09   \n...                      ...           ...           ...           ...   \n4355            13416.186037  1.837400e-08  2.310700e-08  6.648000e-09   \n4356            13419.276893  1.926300e-08  2.175700e-08  5.781000e-09   \n4357            13422.391821  1.769300e-08  2.378300e-08  6.743000e-09   \n4358            13425.512888  1.718700e-08  2.383100e-08  6.291000e-09   \n4359            13428.652871  1.794300e-08  2.502200e-08  6.793000e-09   \n\n          SnO2 (1)      SnO2 (2)      SnO2 (3)       AZO (1)       AZO (2)  \\\n0     6.084070e-06  1.020540e-05  6.052600e-06  2.028510e-07  3.413200e-08   \n1     6.102330e-06  9.997400e-06  5.902720e-06  3.001540e-07  2.351600e-08   \n2     6.147140e-06  1.000700e-05  5.925210e-06  3.382290e-07  2.176200e-08   \n3     6.241650e-06  9.960900e-06  5.943840e-06  3.601350e-07  2.050600e-08   \n4     6.191540e-06  9.997000e-06  5.750040e-06  3.950600e-07  2.043800e-08   \n...            ...           ...           ...           ...           ...   \n4355  5.814500e-07  9.020800e-07  8.875000e-07  4.869440e-07  2.582770e-07   \n4356  5.625690e-07  9.100200e-07  9.093900e-07  4.887870e-07  2.744100e-07   \n4357  5.740710e-07  9.260400e-07  9.049200e-07  4.955520e-07  2.737230e-07   \n4358  5.557800e-07  9.258500e-07  9.031300e-07  4.575880e-07  2.710690e-07   \n4359  5.709950e-07  9.149100e-07           NaN           NaN           NaN   \n\n           AZO (3)  \n0     1.304900e-08  \n1     9.561000e-09  \n2     7.909000e-09  \n3     6.387000e-09  \n4     5.710000e-09  \n...            ...  \n4355  2.349730e-07  \n4356  2.412310e-07  \n4357  2.241300e-07  \n4358  2.381330e-07  \n4359           NaN  \n\n[4360 rows x 10 columns], 'Geraniol':       Timesta+A1:J1mps (sec)       ZnO (1)       ZnO (2)       ZnO (3)  \\\n0                   0.000010  1.070000e-09  5.381000e-09  2.836000e-09   \n1                   2.990691  1.624300e-08  9.640000e-09  4.065000e-09   \n2                   5.976659  1.903500e-08  1.133300e-08  5.449000e-09   \n3                   8.966782  1.884500e-08  1.146900e-08  5.484000e-09   \n4                  11.902905  1.967700e-08  1.217300e-08  6.050000e-09   \n...                      ...           ...           ...           ...   \n3284             9874.223003  9.247000e-09  1.594300e-08  7.580000e-09   \n3285             9877.246378  9.823000e-09  1.661600e-08  7.899000e-09   \n3286             9880.249852  1.018300e-08  1.642700e-08  7.808000e-09   \n3287             9883.257690  1.040500e-08  1.850600e-08  8.139000e-09   \n3288             9886.271773  1.004100e-08  1.622500e-08  7.898000e-09   \n\n          SnO2 (1)      SnO2 (2)      SnO2 (3)       AZO (1)       AZO (2)  \\\n0     5.654280e-07  5.780480e-07  7.226240e-07  3.266490e-07  6.064800e-08   \n1     5.069360e-07  5.686750e-07  6.777080e-07  3.208540e-07  5.379000e-08   \n2     5.070910e-07  5.818620e-07  6.718360e-07  3.178280e-07  5.430300e-08   \n3     4.971240e-07  5.781600e-07  6.855340e-07  3.170250e-07  5.367700e-08   \n4     5.032630e-07  5.898570e-07  6.992300e-07  3.103740e-07  5.392800e-08   \n...            ...           ...           ...           ...           ...   \n3284  1.808820e-07  2.282290e-07  2.219810e-07  1.679800e-07  3.493000e-08   \n3285  1.823760e-07  2.279420e-07  2.204800e-07  1.660220e-07  3.521100e-08   \n3286  1.802410e-07  2.265790e-07  2.242370e-07  1.661040e-07  3.582600e-08   \n3287  1.867930e-07  2.286730e-07  2.244000e-07  1.663460e-07  3.566400e-08   \n3288  1.832770e-07  2.272810e-07  2.237090e-07  1.672960e-07           NaN   \n\n           AZO (3)  \n0     7.825600e-08  \n1     6.403000e-08  \n2     6.081000e-08  \n3     6.569500e-08  \n4     6.586900e-08  \n...            ...  \n3284  1.981000e-08  \n3285  2.051500e-08  \n3286  2.077600e-08  \n3287  2.059700e-08  \n3288           NaN  \n\n[3289 rows x 10 columns]}\n"
     ]
    }
   ],
   "source": [
    "data_url = \"./data/단향 측정 데이터_권혁진.xlsx\"\n",
    "df_dict = pd.read_excel(data_url, sheet_name=None)\n",
    "print(df_dict)"
   ]
  },
  {
   "cell_type": "code",
   "execution_count": null,
   "metadata": {},
   "outputs": [],
   "source": []
  },
  {
   "cell_type": "code",
   "execution_count": 3,
   "metadata": {},
   "outputs": [
    {
     "output_type": "stream",
     "name": "stdout",
     "text": [
      "   Timesta+A1:J1mps (sec)       ZnO (1)       ZnO (2)       ZnO (3)  SnO2 (1)  \\\n0                0.000009  7.740000e-10  3.028200e-07  1.332600e-08  0.000072   \n1                2.981646  1.150800e-08  2.955960e-07  1.503100e-08  0.000072   \n2                5.951279  1.164000e-08  2.985380e-07  1.300000e-08  0.000073   \n3                8.889494  1.139700e-08  3.051830e-07  1.305800e-08  0.000073   \n4               11.895487  8.972000e-09  2.375300e-07  7.302000e-09  0.000073   \n\n   SnO2 (2)  SnO2 (3)       AZO (1)   AZO (2)       AZO (3) scent_name  \n0  0.000065  0.000053  1.267340e-07  0.000001  4.576990e-07   Heptanol  \n1  0.000064  0.000054  1.277770e-07  0.000001  5.968640e-07   Heptanol  \n2  0.000065  0.000054  1.306230e-07  0.000001  5.696490e-07   Heptanol  \n3  0.000065  0.000054  1.175820e-07  0.000001  5.729060e-07   Heptanol  \n4  0.000066  0.000055  1.184220e-07  0.000001  5.641550e-07   Heptanol  \n(36670, 11)\n['Heptanol' '2-ethylfenchol' 'Octanal' 'Eugenol' 'Cis-3-hexenol' 'Decanal'\n '2,3,5 trymethylpyrazine' 'Geraniol']\n"
     ]
    }
   ],
   "source": [
    "first_scent_name = list(df_dict.keys())[0]\n",
    "# Where we are going to integrate scent data in integrated data\n",
    "# Make a \"scent_name\" column.\n",
    "integrated_data = pd.DataFrame(columns= df_dict[first_scent_name].columns)\n",
    "integrated_data[\"scent_name\"] = None\n",
    "\n",
    "# concat the df of each scent into integrated data.\n",
    "for scent_name in df_dict.keys():\n",
    "    df_dict[scent_name][\"scent_name\"] = scent_name\n",
    "    integrated_data = pd.concat([integrated_data, df_dict[scent_name]], ignore_index = True)  \n",
    "\n",
    "print(integrated_data.head())\n",
    "print(integrated_data.shape)\n",
    "print(integrated_data[\"scent_name\"].unique())\n"
   ]
  },
  {
   "cell_type": "code",
   "execution_count": 4,
   "metadata": {},
   "outputs": [
    {
     "output_type": "execute_result",
     "data": {
      "text/plain": [
       "   Time (sec)       ZnO (1)       ZnO (2)       ZnO (3)  SnO2 (1)  SnO2 (2)  \\\n",
       "0    0.000009  7.740000e-10  3.028200e-07  1.332600e-08  0.000072  0.000065   \n",
       "1    2.981646  1.150800e-08  2.955960e-07  1.503100e-08  0.000072  0.000064   \n",
       "2    5.951279  1.164000e-08  2.985380e-07  1.300000e-08  0.000073  0.000065   \n",
       "3    8.889494  1.139700e-08  3.051830e-07  1.305800e-08  0.000073  0.000065   \n",
       "4   11.895487  8.972000e-09  2.375300e-07  7.302000e-09  0.000073  0.000066   \n",
       "\n",
       "   SnO2 (3)       AZO (1)   AZO (2)       AZO (3) scent_name  \n",
       "0  0.000053  1.267340e-07  0.000001  4.576990e-07   Heptanol  \n",
       "1  0.000054  1.277770e-07  0.000001  5.968640e-07   Heptanol  \n",
       "2  0.000054  1.306230e-07  0.000001  5.696490e-07   Heptanol  \n",
       "3  0.000054  1.175820e-07  0.000001  5.729060e-07   Heptanol  \n",
       "4  0.000055  1.184220e-07  0.000001  5.641550e-07   Heptanol  "
      ],
      "text/html": "<div>\n<style scoped>\n    .dataframe tbody tr th:only-of-type {\n        vertical-align: middle;\n    }\n\n    .dataframe tbody tr th {\n        vertical-align: top;\n    }\n\n    .dataframe thead th {\n        text-align: right;\n    }\n</style>\n<table border=\"1\" class=\"dataframe\">\n  <thead>\n    <tr style=\"text-align: right;\">\n      <th></th>\n      <th>Time (sec)</th>\n      <th>ZnO (1)</th>\n      <th>ZnO (2)</th>\n      <th>ZnO (3)</th>\n      <th>SnO2 (1)</th>\n      <th>SnO2 (2)</th>\n      <th>SnO2 (3)</th>\n      <th>AZO (1)</th>\n      <th>AZO (2)</th>\n      <th>AZO (3)</th>\n      <th>scent_name</th>\n    </tr>\n  </thead>\n  <tbody>\n    <tr>\n      <th>0</th>\n      <td>0.000009</td>\n      <td>7.740000e-10</td>\n      <td>3.028200e-07</td>\n      <td>1.332600e-08</td>\n      <td>0.000072</td>\n      <td>0.000065</td>\n      <td>0.000053</td>\n      <td>1.267340e-07</td>\n      <td>0.000001</td>\n      <td>4.576990e-07</td>\n      <td>Heptanol</td>\n    </tr>\n    <tr>\n      <th>1</th>\n      <td>2.981646</td>\n      <td>1.150800e-08</td>\n      <td>2.955960e-07</td>\n      <td>1.503100e-08</td>\n      <td>0.000072</td>\n      <td>0.000064</td>\n      <td>0.000054</td>\n      <td>1.277770e-07</td>\n      <td>0.000001</td>\n      <td>5.968640e-07</td>\n      <td>Heptanol</td>\n    </tr>\n    <tr>\n      <th>2</th>\n      <td>5.951279</td>\n      <td>1.164000e-08</td>\n      <td>2.985380e-07</td>\n      <td>1.300000e-08</td>\n      <td>0.000073</td>\n      <td>0.000065</td>\n      <td>0.000054</td>\n      <td>1.306230e-07</td>\n      <td>0.000001</td>\n      <td>5.696490e-07</td>\n      <td>Heptanol</td>\n    </tr>\n    <tr>\n      <th>3</th>\n      <td>8.889494</td>\n      <td>1.139700e-08</td>\n      <td>3.051830e-07</td>\n      <td>1.305800e-08</td>\n      <td>0.000073</td>\n      <td>0.000065</td>\n      <td>0.000054</td>\n      <td>1.175820e-07</td>\n      <td>0.000001</td>\n      <td>5.729060e-07</td>\n      <td>Heptanol</td>\n    </tr>\n    <tr>\n      <th>4</th>\n      <td>11.895487</td>\n      <td>8.972000e-09</td>\n      <td>2.375300e-07</td>\n      <td>7.302000e-09</td>\n      <td>0.000073</td>\n      <td>0.000066</td>\n      <td>0.000055</td>\n      <td>1.184220e-07</td>\n      <td>0.000001</td>\n      <td>5.641550e-07</td>\n      <td>Heptanol</td>\n    </tr>\n  </tbody>\n</table>\n</div>"
     },
     "metadata": {},
     "execution_count": 4
    }
   ],
   "source": [
    "# Change Column name to \"Time (sec)\"\n",
    "integrated_data = integrated_data.rename(columns = {\"Timesta+A1:J1mps (sec)\" :\"Time (sec)\"})\n",
    "integrated_data.head()"
   ]
  },
  {
   "cell_type": "code",
   "execution_count": 5,
   "metadata": {},
   "outputs": [
    {
     "output_type": "execute_result",
     "data": {
      "text/plain": [
       "   Time (sec)       ZnO (1)       ZnO (2)       ZnO (3)  SnO2 (1)  SnO2 (2)  \\\n",
       "0    0.000009  7.740000e-10  3.028200e-07  1.332600e-08  0.000072  0.000065   \n",
       "1    2.981646  1.150800e-08  2.955960e-07  1.503100e-08  0.000072  0.000064   \n",
       "2    5.951279  1.164000e-08  2.985380e-07  1.300000e-08  0.000073  0.000065   \n",
       "3    8.889494  1.139700e-08  3.051830e-07  1.305800e-08  0.000073  0.000065   \n",
       "4   11.895487  8.972000e-09  2.375300e-07  7.302000e-09  0.000073  0.000066   \n",
       "\n",
       "   SnO2 (3)       AZO (1)   AZO (2)       AZO (3) scent_name on_off_state  \n",
       "0  0.000053  1.267340e-07  0.000001  4.576990e-07   Heptanol          off  \n",
       "1  0.000054  1.277770e-07  0.000001  5.968640e-07   Heptanol          off  \n",
       "2  0.000054  1.306230e-07  0.000001  5.696490e-07   Heptanol          off  \n",
       "3  0.000054  1.175820e-07  0.000001  5.729060e-07   Heptanol          off  \n",
       "4  0.000055  1.184220e-07  0.000001  5.641550e-07   Heptanol          off  "
      ],
      "text/html": "<div>\n<style scoped>\n    .dataframe tbody tr th:only-of-type {\n        vertical-align: middle;\n    }\n\n    .dataframe tbody tr th {\n        vertical-align: top;\n    }\n\n    .dataframe thead th {\n        text-align: right;\n    }\n</style>\n<table border=\"1\" class=\"dataframe\">\n  <thead>\n    <tr style=\"text-align: right;\">\n      <th></th>\n      <th>Time (sec)</th>\n      <th>ZnO (1)</th>\n      <th>ZnO (2)</th>\n      <th>ZnO (3)</th>\n      <th>SnO2 (1)</th>\n      <th>SnO2 (2)</th>\n      <th>SnO2 (3)</th>\n      <th>AZO (1)</th>\n      <th>AZO (2)</th>\n      <th>AZO (3)</th>\n      <th>scent_name</th>\n      <th>on_off_state</th>\n    </tr>\n  </thead>\n  <tbody>\n    <tr>\n      <th>0</th>\n      <td>0.000009</td>\n      <td>7.740000e-10</td>\n      <td>3.028200e-07</td>\n      <td>1.332600e-08</td>\n      <td>0.000072</td>\n      <td>0.000065</td>\n      <td>0.000053</td>\n      <td>1.267340e-07</td>\n      <td>0.000001</td>\n      <td>4.576990e-07</td>\n      <td>Heptanol</td>\n      <td>off</td>\n    </tr>\n    <tr>\n      <th>1</th>\n      <td>2.981646</td>\n      <td>1.150800e-08</td>\n      <td>2.955960e-07</td>\n      <td>1.503100e-08</td>\n      <td>0.000072</td>\n      <td>0.000064</td>\n      <td>0.000054</td>\n      <td>1.277770e-07</td>\n      <td>0.000001</td>\n      <td>5.968640e-07</td>\n      <td>Heptanol</td>\n      <td>off</td>\n    </tr>\n    <tr>\n      <th>2</th>\n      <td>5.951279</td>\n      <td>1.164000e-08</td>\n      <td>2.985380e-07</td>\n      <td>1.300000e-08</td>\n      <td>0.000073</td>\n      <td>0.000065</td>\n      <td>0.000054</td>\n      <td>1.306230e-07</td>\n      <td>0.000001</td>\n      <td>5.696490e-07</td>\n      <td>Heptanol</td>\n      <td>off</td>\n    </tr>\n    <tr>\n      <th>3</th>\n      <td>8.889494</td>\n      <td>1.139700e-08</td>\n      <td>3.051830e-07</td>\n      <td>1.305800e-08</td>\n      <td>0.000073</td>\n      <td>0.000065</td>\n      <td>0.000054</td>\n      <td>1.175820e-07</td>\n      <td>0.000001</td>\n      <td>5.729060e-07</td>\n      <td>Heptanol</td>\n      <td>off</td>\n    </tr>\n    <tr>\n      <th>4</th>\n      <td>11.895487</td>\n      <td>8.972000e-09</td>\n      <td>2.375300e-07</td>\n      <td>7.302000e-09</td>\n      <td>0.000073</td>\n      <td>0.000066</td>\n      <td>0.000055</td>\n      <td>1.184220e-07</td>\n      <td>0.000001</td>\n      <td>5.641550e-07</td>\n      <td>Heptanol</td>\n      <td>off</td>\n    </tr>\n  </tbody>\n</table>\n</div>"
     },
     "metadata": {},
     "execution_count": 5
    }
   ],
   "source": [
    "# bubble is repeated by off/on.\n",
    "# use math.inf to make a boundary for off in this case (+ 600, 1200)\n",
    "nose_open_close_pattern = [(0, 600), (1200, 2400), (3000, 4200), (4800, 6000), (6600, 7800), (8400, 9600), (10200, 11400), (12000, 13200), (13800, 15000), (15600, 16800), (17400, 18600), (19200, math.inf)]\n",
    "# Heptanol is in A --> we are going to use nose_...A\n",
    "\n",
    "#make a defalut column filled with \"on\"\n",
    "integrated_data[\"on_off_state\"] = \"on\"\n",
    "\n",
    "for i, j in nose_open_close_pattern:\n",
    "    integrated_data[\"on_off_state\"] = integrated_data.apply(lambda x: \"off\" if (i <= x[\"Time (sec)\"]) & (x[\"Time (sec)\"] < j) else x[\"on_off_state\"], axis=1)\n",
    "\n",
    "integrated_data.head()"
   ]
  },
  {
   "cell_type": "code",
   "execution_count": 6,
   "metadata": {},
   "outputs": [
    {
     "output_type": "execute_result",
     "data": {
      "text/plain": [
       "   Time (sec)       ZnO (1)       ZnO (2)       ZnO (3)  SnO2 (1)  SnO2 (2)  \\\n",
       "0    0.000009  7.740000e-10  3.028200e-07  1.332600e-08  0.000072  0.000065   \n",
       "1    2.981646  1.150800e-08  2.955960e-07  1.503100e-08  0.000072  0.000064   \n",
       "2    5.951279  1.164000e-08  2.985380e-07  1.300000e-08  0.000073  0.000065   \n",
       "3    8.889494  1.139700e-08  3.051830e-07  1.305800e-08  0.000073  0.000065   \n",
       "4   11.895487  8.972000e-09  2.375300e-07  7.302000e-09  0.000073  0.000066   \n",
       "\n",
       "   SnO2 (3)       AZO (1)   AZO (2)       AZO (3) scent_name on_off_state  \\\n",
       "0  0.000053  1.267340e-07  0.000001  4.576990e-07   Heptanol          off   \n",
       "1  0.000054  1.277770e-07  0.000001  5.968640e-07   Heptanol          off   \n",
       "2  0.000054  1.306230e-07  0.000001  5.696490e-07   Heptanol          off   \n",
       "3  0.000054  1.175820e-07  0.000001  5.729060e-07   Heptanol          off   \n",
       "4  0.000055  1.184220e-07  0.000001  5.641550e-07   Heptanol          off   \n",
       "\n",
       "   trial_num  \n",
       "0          1  \n",
       "1          1  \n",
       "2          1  \n",
       "3          1  \n",
       "4          1  "
      ],
      "text/html": "<div>\n<style scoped>\n    .dataframe tbody tr th:only-of-type {\n        vertical-align: middle;\n    }\n\n    .dataframe tbody tr th {\n        vertical-align: top;\n    }\n\n    .dataframe thead th {\n        text-align: right;\n    }\n</style>\n<table border=\"1\" class=\"dataframe\">\n  <thead>\n    <tr style=\"text-align: right;\">\n      <th></th>\n      <th>Time (sec)</th>\n      <th>ZnO (1)</th>\n      <th>ZnO (2)</th>\n      <th>ZnO (3)</th>\n      <th>SnO2 (1)</th>\n      <th>SnO2 (2)</th>\n      <th>SnO2 (3)</th>\n      <th>AZO (1)</th>\n      <th>AZO (2)</th>\n      <th>AZO (3)</th>\n      <th>scent_name</th>\n      <th>on_off_state</th>\n      <th>trial_num</th>\n    </tr>\n  </thead>\n  <tbody>\n    <tr>\n      <th>0</th>\n      <td>0.000009</td>\n      <td>7.740000e-10</td>\n      <td>3.028200e-07</td>\n      <td>1.332600e-08</td>\n      <td>0.000072</td>\n      <td>0.000065</td>\n      <td>0.000053</td>\n      <td>1.267340e-07</td>\n      <td>0.000001</td>\n      <td>4.576990e-07</td>\n      <td>Heptanol</td>\n      <td>off</td>\n      <td>1</td>\n    </tr>\n    <tr>\n      <th>1</th>\n      <td>2.981646</td>\n      <td>1.150800e-08</td>\n      <td>2.955960e-07</td>\n      <td>1.503100e-08</td>\n      <td>0.000072</td>\n      <td>0.000064</td>\n      <td>0.000054</td>\n      <td>1.277770e-07</td>\n      <td>0.000001</td>\n      <td>5.968640e-07</td>\n      <td>Heptanol</td>\n      <td>off</td>\n      <td>1</td>\n    </tr>\n    <tr>\n      <th>2</th>\n      <td>5.951279</td>\n      <td>1.164000e-08</td>\n      <td>2.985380e-07</td>\n      <td>1.300000e-08</td>\n      <td>0.000073</td>\n      <td>0.000065</td>\n      <td>0.000054</td>\n      <td>1.306230e-07</td>\n      <td>0.000001</td>\n      <td>5.696490e-07</td>\n      <td>Heptanol</td>\n      <td>off</td>\n      <td>1</td>\n    </tr>\n    <tr>\n      <th>3</th>\n      <td>8.889494</td>\n      <td>1.139700e-08</td>\n      <td>3.051830e-07</td>\n      <td>1.305800e-08</td>\n      <td>0.000073</td>\n      <td>0.000065</td>\n      <td>0.000054</td>\n      <td>1.175820e-07</td>\n      <td>0.000001</td>\n      <td>5.729060e-07</td>\n      <td>Heptanol</td>\n      <td>off</td>\n      <td>1</td>\n    </tr>\n    <tr>\n      <th>4</th>\n      <td>11.895487</td>\n      <td>8.972000e-09</td>\n      <td>2.375300e-07</td>\n      <td>7.302000e-09</td>\n      <td>0.000073</td>\n      <td>0.000066</td>\n      <td>0.000055</td>\n      <td>1.184220e-07</td>\n      <td>0.000001</td>\n      <td>5.641550e-07</td>\n      <td>Heptanol</td>\n      <td>off</td>\n      <td>1</td>\n    </tr>\n  </tbody>\n</table>\n</div>"
     },
     "metadata": {},
     "execution_count": 6
    }
   ],
   "source": [
    "# GOALS : Make a on_off_state and Trial_numbers\n",
    "# bubble is repeated by off/on.\n",
    "# use math.inf to make a boundary for off in this case (+ 600, 1200)\n",
    "nose_open_close_pattern = [0, 600, 1200, 2400, 3000, 4200, 4800, 6000, 6600, 7800, 8400, 9600, 10200, 11400, 12000, 13200, 13800, 15000, 15600, 16800, 17400, 18600, 19200, math.inf]\n",
    "# 1. \"on_off_state\"\n",
    "#make a defalut column filled with \"on\"\n",
    "integrated_data[\"on_off_state\"] = \"on\"\n",
    "\n",
    "for i in range(len(nose_open_close_pattern)//2):\n",
    "    integrated_data[\"on_off_state\"] = integrated_data.apply(lambda x: \"off\" if (nose_open_close_pattern[2*i] <= x[\"Time (sec)\"]) & (x[\"Time (sec)\"] < nose_open_close_pattern[2*i + 1]) else x[\"on_off_state\"], axis=1)\n",
    "\n",
    "# 2. \"trial_num\"\n",
    "# set trial_num as 0 series.\n",
    "integrated_data[\"trial_num\"] = 0\n",
    "for i in range(len(nose_open_close_pattern)//2 - 1):\n",
    "    integrated_data[\"trial_num\"] = integrated_data.apply(lambda x: i + 1 if (nose_open_close_pattern[2*i] <= x[\"Time (sec)\"]) & (x[\"Time (sec)\"] < nose_open_close_pattern[2*i + 2]) else x[\"trial_num\"] ,axis= 1)\n",
    "\n",
    "integrated_data.head()"
   ]
  },
  {
   "source": [
    "## Let's make columns more efficient to access.  \n",
    "Hieracrchical columns like ZnO > 1, 2, 3 "
   ],
   "cell_type": "markdown",
   "metadata": {}
  },
  {
   "cell_type": "code",
   "execution_count": 65,
   "metadata": {},
   "outputs": [],
   "source": [
    "integrated_data_optimized = integrated_data.copy()"
   ]
  },
  {
   "cell_type": "code",
   "execution_count": 66,
   "metadata": {},
   "outputs": [
    {
     "output_type": "execute_result",
     "data": {
      "text/plain": [
       "                                                   ZnO (1)       ZnO (2)  \\\n",
       "scent_name trial_num on_off_state Time (sec)                               \n",
       "Heptanol   1         off          0.000009    7.740000e-10  3.028200e-07   \n",
       "                                  2.981646    1.150800e-08  2.955960e-07   \n",
       "                                  5.951279    1.164000e-08  2.985380e-07   \n",
       "                                  8.889494    1.139700e-08  3.051830e-07   \n",
       "                                  11.895487   8.972000e-09  2.375300e-07   \n",
       "\n",
       "                                                   ZnO (3)  SnO2 (1)  \\\n",
       "scent_name trial_num on_off_state Time (sec)                           \n",
       "Heptanol   1         off          0.000009    1.332600e-08  0.000072   \n",
       "                                  2.981646    1.503100e-08  0.000072   \n",
       "                                  5.951279    1.300000e-08  0.000073   \n",
       "                                  8.889494    1.305800e-08  0.000073   \n",
       "                                  11.895487   7.302000e-09  0.000073   \n",
       "\n",
       "                                              SnO2 (2)  SnO2 (3)  \\\n",
       "scent_name trial_num on_off_state Time (sec)                       \n",
       "Heptanol   1         off          0.000009    0.000065  0.000053   \n",
       "                                  2.981646    0.000064  0.000054   \n",
       "                                  5.951279    0.000065  0.000054   \n",
       "                                  8.889494    0.000065  0.000054   \n",
       "                                  11.895487   0.000066  0.000055   \n",
       "\n",
       "                                                   AZO (1)   AZO (2)  \\\n",
       "scent_name trial_num on_off_state Time (sec)                           \n",
       "Heptanol   1         off          0.000009    1.267340e-07  0.000001   \n",
       "                                  2.981646    1.277770e-07  0.000001   \n",
       "                                  5.951279    1.306230e-07  0.000001   \n",
       "                                  8.889494    1.175820e-07  0.000001   \n",
       "                                  11.895487   1.184220e-07  0.000001   \n",
       "\n",
       "                                                   AZO (3)  \n",
       "scent_name trial_num on_off_state Time (sec)                \n",
       "Heptanol   1         off          0.000009    4.576990e-07  \n",
       "                                  2.981646    5.968640e-07  \n",
       "                                  5.951279    5.696490e-07  \n",
       "                                  8.889494    5.729060e-07  \n",
       "                                  11.895487   5.641550e-07  "
      ],
      "text/html": "<div>\n<style scoped>\n    .dataframe tbody tr th:only-of-type {\n        vertical-align: middle;\n    }\n\n    .dataframe tbody tr th {\n        vertical-align: top;\n    }\n\n    .dataframe thead th {\n        text-align: right;\n    }\n</style>\n<table border=\"1\" class=\"dataframe\">\n  <thead>\n    <tr style=\"text-align: right;\">\n      <th></th>\n      <th></th>\n      <th></th>\n      <th></th>\n      <th>ZnO (1)</th>\n      <th>ZnO (2)</th>\n      <th>ZnO (3)</th>\n      <th>SnO2 (1)</th>\n      <th>SnO2 (2)</th>\n      <th>SnO2 (3)</th>\n      <th>AZO (1)</th>\n      <th>AZO (2)</th>\n      <th>AZO (3)</th>\n    </tr>\n    <tr>\n      <th>scent_name</th>\n      <th>trial_num</th>\n      <th>on_off_state</th>\n      <th>Time (sec)</th>\n      <th></th>\n      <th></th>\n      <th></th>\n      <th></th>\n      <th></th>\n      <th></th>\n      <th></th>\n      <th></th>\n      <th></th>\n    </tr>\n  </thead>\n  <tbody>\n    <tr>\n      <th rowspan=\"5\" valign=\"top\">Heptanol</th>\n      <th rowspan=\"5\" valign=\"top\">1</th>\n      <th rowspan=\"5\" valign=\"top\">off</th>\n      <th>0.000009</th>\n      <td>7.740000e-10</td>\n      <td>3.028200e-07</td>\n      <td>1.332600e-08</td>\n      <td>0.000072</td>\n      <td>0.000065</td>\n      <td>0.000053</td>\n      <td>1.267340e-07</td>\n      <td>0.000001</td>\n      <td>4.576990e-07</td>\n    </tr>\n    <tr>\n      <th>2.981646</th>\n      <td>1.150800e-08</td>\n      <td>2.955960e-07</td>\n      <td>1.503100e-08</td>\n      <td>0.000072</td>\n      <td>0.000064</td>\n      <td>0.000054</td>\n      <td>1.277770e-07</td>\n      <td>0.000001</td>\n      <td>5.968640e-07</td>\n    </tr>\n    <tr>\n      <th>5.951279</th>\n      <td>1.164000e-08</td>\n      <td>2.985380e-07</td>\n      <td>1.300000e-08</td>\n      <td>0.000073</td>\n      <td>0.000065</td>\n      <td>0.000054</td>\n      <td>1.306230e-07</td>\n      <td>0.000001</td>\n      <td>5.696490e-07</td>\n    </tr>\n    <tr>\n      <th>8.889494</th>\n      <td>1.139700e-08</td>\n      <td>3.051830e-07</td>\n      <td>1.305800e-08</td>\n      <td>0.000073</td>\n      <td>0.000065</td>\n      <td>0.000054</td>\n      <td>1.175820e-07</td>\n      <td>0.000001</td>\n      <td>5.729060e-07</td>\n    </tr>\n    <tr>\n      <th>11.895487</th>\n      <td>8.972000e-09</td>\n      <td>2.375300e-07</td>\n      <td>7.302000e-09</td>\n      <td>0.000073</td>\n      <td>0.000066</td>\n      <td>0.000055</td>\n      <td>1.184220e-07</td>\n      <td>0.000001</td>\n      <td>5.641550e-07</td>\n    </tr>\n  </tbody>\n</table>\n</div>"
     },
     "metadata": {},
     "execution_count": 66
    }
   ],
   "source": [
    "# integrated_data.set_axis([\"Time (sec)\", [[\"Zno\"], [1]], [[\"Zno\"], [2]], [[\"Zno\"], [3]], [[\"SnO2\"], [1]], [[\"SnO2\"], [2]], [[\"SnO2\"], [3]], [[\"AZO\"], [1]], [[\"AZO\"], [2]], [[\"AZO\"], [3]], \"scent_name\", \"on_off_state\", \"trial_name\" ] ,axis=\"columns\")\n",
    "\n",
    "# integrated_data_optimized.iloc[0] = [None, \"1\", \"2\", \"3\", \"1\", \"2\", \"3\", \"1\", \"2\", \"3\", None, None, None]\n",
    "\n",
    "integrated_data_optimized = integrated_data_optimized.set_index([\"scent_name\", \"trial_num\", \"on_off_state\", \"Time (sec)\"])\n",
    "\n",
    "\n",
    "integrated_data_optimized.head()"
   ]
  },
  {
   "cell_type": "code",
   "execution_count": 67,
   "metadata": {},
   "outputs": [
    {
     "output_type": "execute_result",
     "data": {
      "text/plain": [
       "                                                       ZnO                \\\n",
       "                                                         1             2   \n",
       "scent_name trial_num on_off_state Time (sec)                               \n",
       "Heptanol   1         off          0.000009    7.740000e-10  3.028200e-07   \n",
       "                                  2.981646    1.150800e-08  2.955960e-07   \n",
       "                                  5.951279    1.164000e-08  2.985380e-07   \n",
       "                                  8.889494    1.139700e-08  3.051830e-07   \n",
       "                                  11.895487   8.972000e-09  2.375300e-07   \n",
       "\n",
       "                                                                SnO2  \\\n",
       "                                                         3         1   \n",
       "scent_name trial_num on_off_state Time (sec)                           \n",
       "Heptanol   1         off          0.000009    1.332600e-08  0.000072   \n",
       "                                  2.981646    1.503100e-08  0.000072   \n",
       "                                  5.951279    1.300000e-08  0.000073   \n",
       "                                  8.889494    1.305800e-08  0.000073   \n",
       "                                  11.895487   7.302000e-09  0.000073   \n",
       "\n",
       "                                                                  \\\n",
       "                                                     2         3   \n",
       "scent_name trial_num on_off_state Time (sec)                       \n",
       "Heptanol   1         off          0.000009    0.000065  0.000053   \n",
       "                                  2.981646    0.000064  0.000054   \n",
       "                                  5.951279    0.000065  0.000054   \n",
       "                                  8.889494    0.000065  0.000054   \n",
       "                                  11.895487   0.000066  0.000055   \n",
       "\n",
       "                                                       AZO            \\\n",
       "                                                         1         2   \n",
       "scent_name trial_num on_off_state Time (sec)                           \n",
       "Heptanol   1         off          0.000009    1.267340e-07  0.000001   \n",
       "                                  2.981646    1.277770e-07  0.000001   \n",
       "                                  5.951279    1.306230e-07  0.000001   \n",
       "                                  8.889494    1.175820e-07  0.000001   \n",
       "                                  11.895487   1.184220e-07  0.000001   \n",
       "\n",
       "                                                            \n",
       "                                                         3  \n",
       "scent_name trial_num on_off_state Time (sec)                \n",
       "Heptanol   1         off          0.000009    4.576990e-07  \n",
       "                                  2.981646    5.968640e-07  \n",
       "                                  5.951279    5.696490e-07  \n",
       "                                  8.889494    5.729060e-07  \n",
       "                                  11.895487   5.641550e-07  "
      ],
      "text/html": "<div>\n<style scoped>\n    .dataframe tbody tr th:only-of-type {\n        vertical-align: middle;\n    }\n\n    .dataframe tbody tr th {\n        vertical-align: top;\n    }\n\n    .dataframe thead tr th {\n        text-align: left;\n    }\n\n    .dataframe thead tr:last-of-type th {\n        text-align: right;\n    }\n</style>\n<table border=\"1\" class=\"dataframe\">\n  <thead>\n    <tr>\n      <th></th>\n      <th></th>\n      <th></th>\n      <th></th>\n      <th colspan=\"3\" halign=\"left\">ZnO</th>\n      <th colspan=\"3\" halign=\"left\">SnO2</th>\n      <th colspan=\"3\" halign=\"left\">AZO</th>\n    </tr>\n    <tr>\n      <th></th>\n      <th></th>\n      <th></th>\n      <th></th>\n      <th>1</th>\n      <th>2</th>\n      <th>3</th>\n      <th>1</th>\n      <th>2</th>\n      <th>3</th>\n      <th>1</th>\n      <th>2</th>\n      <th>3</th>\n    </tr>\n    <tr>\n      <th>scent_name</th>\n      <th>trial_num</th>\n      <th>on_off_state</th>\n      <th>Time (sec)</th>\n      <th></th>\n      <th></th>\n      <th></th>\n      <th></th>\n      <th></th>\n      <th></th>\n      <th></th>\n      <th></th>\n      <th></th>\n    </tr>\n  </thead>\n  <tbody>\n    <tr>\n      <th rowspan=\"5\" valign=\"top\">Heptanol</th>\n      <th rowspan=\"5\" valign=\"top\">1</th>\n      <th rowspan=\"5\" valign=\"top\">off</th>\n      <th>0.000009</th>\n      <td>7.740000e-10</td>\n      <td>3.028200e-07</td>\n      <td>1.332600e-08</td>\n      <td>0.000072</td>\n      <td>0.000065</td>\n      <td>0.000053</td>\n      <td>1.267340e-07</td>\n      <td>0.000001</td>\n      <td>4.576990e-07</td>\n    </tr>\n    <tr>\n      <th>2.981646</th>\n      <td>1.150800e-08</td>\n      <td>2.955960e-07</td>\n      <td>1.503100e-08</td>\n      <td>0.000072</td>\n      <td>0.000064</td>\n      <td>0.000054</td>\n      <td>1.277770e-07</td>\n      <td>0.000001</td>\n      <td>5.968640e-07</td>\n    </tr>\n    <tr>\n      <th>5.951279</th>\n      <td>1.164000e-08</td>\n      <td>2.985380e-07</td>\n      <td>1.300000e-08</td>\n      <td>0.000073</td>\n      <td>0.000065</td>\n      <td>0.000054</td>\n      <td>1.306230e-07</td>\n      <td>0.000001</td>\n      <td>5.696490e-07</td>\n    </tr>\n    <tr>\n      <th>8.889494</th>\n      <td>1.139700e-08</td>\n      <td>3.051830e-07</td>\n      <td>1.305800e-08</td>\n      <td>0.000073</td>\n      <td>0.000065</td>\n      <td>0.000054</td>\n      <td>1.175820e-07</td>\n      <td>0.000001</td>\n      <td>5.729060e-07</td>\n    </tr>\n    <tr>\n      <th>11.895487</th>\n      <td>8.972000e-09</td>\n      <td>2.375300e-07</td>\n      <td>7.302000e-09</td>\n      <td>0.000073</td>\n      <td>0.000066</td>\n      <td>0.000055</td>\n      <td>1.184220e-07</td>\n      <td>0.000001</td>\n      <td>5.641550e-07</td>\n    </tr>\n  </tbody>\n</table>\n</div>"
     },
     "metadata": {},
     "execution_count": 67
    }
   ],
   "source": [
    "integrated_data_optimized = integrated_data_optimized.set_axis([integrated_data_optimized.columns.map(lambda x: x[:-4]), pd.Index([1, 2, 3]*3) ], axis = 1)\n",
    "\n",
    "integrated_data_optimized.head()\n",
    "# integrated_data_optimized.columns = [integrated_data_optimized.columns[0]] + list(integrated_data_optimized.columns[1:10].map(lambda x: x[:3])) + list(integrated_data_optimized.columns[10:], list(integrated_data_optimized.iloc[0]))"
   ]
  },
  {
   "cell_type": "code",
   "execution_count": 68,
   "metadata": {},
   "outputs": [
    {
     "output_type": "execute_result",
     "data": {
      "text/plain": [
       "MultiIndex([('Heptanol', 1, 'off',       9e-06),\n",
       "            ('Heptanol', 1, 'off',    2.981646),\n",
       "            ('Heptanol', 1, 'off',    5.951279),\n",
       "            ('Heptanol', 1, 'off',    8.889494),\n",
       "            ('Heptanol', 1, 'off',   11.895487),\n",
       "            ('Heptanol', 1, 'off',   14.882415),\n",
       "            ('Heptanol', 1, 'off',   17.813674),\n",
       "            ('Heptanol', 1, 'off',   20.771962),\n",
       "            ('Heptanol', 1, 'off',   23.768765),\n",
       "            ('Heptanol', 1, 'off',   26.772708),\n",
       "            ...\n",
       "            ('Geraniol', 6,  'on', 9859.097593),\n",
       "            ('Geraniol', 6,  'on', 9862.108969),\n",
       "            ('Geraniol', 6,  'on', 9865.114172),\n",
       "            ('Geraniol', 6,  'on', 9868.139747),\n",
       "            ('Geraniol', 6,  'on', 9871.127468),\n",
       "            ('Geraniol', 6,  'on', 9874.223003),\n",
       "            ('Geraniol', 6,  'on', 9877.246378),\n",
       "            ('Geraniol', 6,  'on', 9880.249852),\n",
       "            ('Geraniol', 6,  'on',  9883.25769),\n",
       "            ('Geraniol', 6,  'on', 9886.271773)],\n",
       "           names=['scent_name', 'trial_num', 'on_off_state', 'Time (sec)'], length=36670)"
      ]
     },
     "metadata": {},
     "execution_count": 68
    }
   ],
   "source": [
    "integrated_data_optimized.index\n"
   ]
  },
  {
   "cell_type": "code",
   "execution_count": 72,
   "metadata": {},
   "outputs": [
    {
     "output_type": "stream",
     "name": "stderr",
     "text": [
      "ipykernel_launcher:1: PerformanceWarning: indexing past lexsort depth may impact performance.\n"
     ]
    },
    {
     "output_type": "execute_result",
     "data": {
      "text/plain": [
       "                      ZnO                                  SnO2            \\\n",
       "                        1             2             3         1         2   \n",
       "Time (sec)                                                                  \n",
       "602.290883   1.184100e-08  4.729630e-07  2.050200e-08  0.000075  0.000071   \n",
       "605.298575   1.066900e-08  4.498490e-07  1.905700e-08  0.000075  0.000071   \n",
       "608.322897   1.154800e-08  4.881370e-07  1.891100e-08  0.000075  0.000071   \n",
       "611.334691   1.160100e-08  4.059930e-07  1.919600e-08  0.000075  0.000072   \n",
       "614.342759   1.175700e-08  4.858830e-07  1.987100e-08  0.000075  0.000071   \n",
       "...                   ...           ...           ...       ...       ...   \n",
       "1187.330076  4.290000e-09  6.416600e-07  2.171500e-08  0.000076  0.000042   \n",
       "1190.345655  4.245000e-09  5.968000e-07  2.134100e-08  0.000076  0.000042   \n",
       "1193.340548  4.270000e-09  6.659500e-07  2.116500e-08  0.000076  0.000041   \n",
       "1196.346888 -1.652000e-09  5.601830e-07  1.873300e-08  0.000076  0.000042   \n",
       "1199.346527  4.799000e-09  5.743000e-07  2.099000e-08  0.000076  0.000042   \n",
       "\n",
       "                                AZO                          \n",
       "                    3             1         2             3  \n",
       "Time (sec)                                                   \n",
       "602.290883   0.000058  1.418540e-07  0.000001  5.768280e-07  \n",
       "605.298575   0.000058  1.403730e-07  0.000001  5.713140e-07  \n",
       "608.322897   0.000058  1.375820e-07  0.000001  5.731830e-07  \n",
       "611.334691   0.000059  1.414050e-07  0.000001  5.600070e-07  \n",
       "614.342759   0.000058  1.372530e-07  0.000001  5.713950e-07  \n",
       "...               ...           ...       ...           ...  \n",
       "1187.330076  0.000055  1.934740e-07  0.000002  1.083730e-06  \n",
       "1190.345655  0.000055  1.929970e-07  0.000002  1.064790e-06  \n",
       "1193.340548  0.000055  1.856380e-07  0.000002  1.044980e-06  \n",
       "1196.346888  0.000055  1.914900e-07  0.000002  1.045810e-06  \n",
       "1199.346527  0.000055  1.957650e-07  0.000002  1.042310e-06  \n",
       "\n",
       "[199 rows x 9 columns]"
      ],
      "text/html": "<div>\n<style scoped>\n    .dataframe tbody tr th:only-of-type {\n        vertical-align: middle;\n    }\n\n    .dataframe tbody tr th {\n        vertical-align: top;\n    }\n\n    .dataframe thead tr th {\n        text-align: left;\n    }\n\n    .dataframe thead tr:last-of-type th {\n        text-align: right;\n    }\n</style>\n<table border=\"1\" class=\"dataframe\">\n  <thead>\n    <tr>\n      <th></th>\n      <th colspan=\"3\" halign=\"left\">ZnO</th>\n      <th colspan=\"3\" halign=\"left\">SnO2</th>\n      <th colspan=\"3\" halign=\"left\">AZO</th>\n    </tr>\n    <tr>\n      <th></th>\n      <th>1</th>\n      <th>2</th>\n      <th>3</th>\n      <th>1</th>\n      <th>2</th>\n      <th>3</th>\n      <th>1</th>\n      <th>2</th>\n      <th>3</th>\n    </tr>\n    <tr>\n      <th>Time (sec)</th>\n      <th></th>\n      <th></th>\n      <th></th>\n      <th></th>\n      <th></th>\n      <th></th>\n      <th></th>\n      <th></th>\n      <th></th>\n    </tr>\n  </thead>\n  <tbody>\n    <tr>\n      <th>602.290883</th>\n      <td>1.184100e-08</td>\n      <td>4.729630e-07</td>\n      <td>2.050200e-08</td>\n      <td>0.000075</td>\n      <td>0.000071</td>\n      <td>0.000058</td>\n      <td>1.418540e-07</td>\n      <td>0.000001</td>\n      <td>5.768280e-07</td>\n    </tr>\n    <tr>\n      <th>605.298575</th>\n      <td>1.066900e-08</td>\n      <td>4.498490e-07</td>\n      <td>1.905700e-08</td>\n      <td>0.000075</td>\n      <td>0.000071</td>\n      <td>0.000058</td>\n      <td>1.403730e-07</td>\n      <td>0.000001</td>\n      <td>5.713140e-07</td>\n    </tr>\n    <tr>\n      <th>608.322897</th>\n      <td>1.154800e-08</td>\n      <td>4.881370e-07</td>\n      <td>1.891100e-08</td>\n      <td>0.000075</td>\n      <td>0.000071</td>\n      <td>0.000058</td>\n      <td>1.375820e-07</td>\n      <td>0.000001</td>\n      <td>5.731830e-07</td>\n    </tr>\n    <tr>\n      <th>611.334691</th>\n      <td>1.160100e-08</td>\n      <td>4.059930e-07</td>\n      <td>1.919600e-08</td>\n      <td>0.000075</td>\n      <td>0.000072</td>\n      <td>0.000059</td>\n      <td>1.414050e-07</td>\n      <td>0.000001</td>\n      <td>5.600070e-07</td>\n    </tr>\n    <tr>\n      <th>614.342759</th>\n      <td>1.175700e-08</td>\n      <td>4.858830e-07</td>\n      <td>1.987100e-08</td>\n      <td>0.000075</td>\n      <td>0.000071</td>\n      <td>0.000058</td>\n      <td>1.372530e-07</td>\n      <td>0.000001</td>\n      <td>5.713950e-07</td>\n    </tr>\n    <tr>\n      <th>...</th>\n      <td>...</td>\n      <td>...</td>\n      <td>...</td>\n      <td>...</td>\n      <td>...</td>\n      <td>...</td>\n      <td>...</td>\n      <td>...</td>\n      <td>...</td>\n    </tr>\n    <tr>\n      <th>1187.330076</th>\n      <td>4.290000e-09</td>\n      <td>6.416600e-07</td>\n      <td>2.171500e-08</td>\n      <td>0.000076</td>\n      <td>0.000042</td>\n      <td>0.000055</td>\n      <td>1.934740e-07</td>\n      <td>0.000002</td>\n      <td>1.083730e-06</td>\n    </tr>\n    <tr>\n      <th>1190.345655</th>\n      <td>4.245000e-09</td>\n      <td>5.968000e-07</td>\n      <td>2.134100e-08</td>\n      <td>0.000076</td>\n      <td>0.000042</td>\n      <td>0.000055</td>\n      <td>1.929970e-07</td>\n      <td>0.000002</td>\n      <td>1.064790e-06</td>\n    </tr>\n    <tr>\n      <th>1193.340548</th>\n      <td>4.270000e-09</td>\n      <td>6.659500e-07</td>\n      <td>2.116500e-08</td>\n      <td>0.000076</td>\n      <td>0.000041</td>\n      <td>0.000055</td>\n      <td>1.856380e-07</td>\n      <td>0.000002</td>\n      <td>1.044980e-06</td>\n    </tr>\n    <tr>\n      <th>1196.346888</th>\n      <td>-1.652000e-09</td>\n      <td>5.601830e-07</td>\n      <td>1.873300e-08</td>\n      <td>0.000076</td>\n      <td>0.000042</td>\n      <td>0.000055</td>\n      <td>1.914900e-07</td>\n      <td>0.000002</td>\n      <td>1.045810e-06</td>\n    </tr>\n    <tr>\n      <th>1199.346527</th>\n      <td>4.799000e-09</td>\n      <td>5.743000e-07</td>\n      <td>2.099000e-08</td>\n      <td>0.000076</td>\n      <td>0.000042</td>\n      <td>0.000055</td>\n      <td>1.957650e-07</td>\n      <td>0.000002</td>\n      <td>1.042310e-06</td>\n    </tr>\n  </tbody>\n</table>\n<p>199 rows × 9 columns</p>\n</div>"
     },
     "metadata": {},
     "execution_count": 72
    }
   ],
   "source": [
    "integrated_data_optimized.loc[\"Heptanol\", 1, \"on\"]"
   ]
  },
  {
   "source": [
    "integrated_data[\"trial_num\"].unique()"
   ],
   "cell_type": "code",
   "metadata": {},
   "execution_count": 73,
   "outputs": [
    {
     "output_type": "execute_result",
     "data": {
      "text/plain": [
       "array([ 1,  2,  3,  4,  5,  6,  7,  8,  9, 10, 11,  0], dtype=int64)"
      ]
     },
     "metadata": {},
     "execution_count": 73
    }
   ]
  },
  {
   "source": [
    "0 = Not in the trials. "
   ],
   "cell_type": "markdown",
   "metadata": {}
  },
  {
   "source": [
    "## Trials made in each scent"
   ],
   "cell_type": "markdown",
   "metadata": {}
  },
  {
   "cell_type": "code",
   "execution_count": 74,
   "metadata": {},
   "outputs": [
    {
     "output_type": "stream",
     "name": "stdout",
     "text": [
      "trials made in Heptanol: 11\ntrials made in 2-ethylfenchol: 11\ntrials made in Octanal: 11\ntrials made in Eugenol: 6\ntrials made in Cis-3-hexenol: 6\ntrials made in Decanal: 6\ntrials made in 2,3,5 trymethylpyrazine: 8\ntrials made in Geraniol: 6\n"
     ]
    }
   ],
   "source": [
    "for name in integrated_data[\"scent_name\"].unique():\n",
    "    trials = integrated_data[integrated_data[\"scent_name\"] == name][\"trial_num\"].max()\n",
    "    print(f\"trials made in {name}: {trials}\")"
   ]
  },
  {
   "cell_type": "code",
   "execution_count": 77,
   "metadata": {},
   "outputs": [],
   "source": [
    "# save as .csv\n",
    "path = \"./data/preprocessed_data.csv\"\n",
    "integrated_data.to_csv(path, index= False)"
   ]
  },
  {
   "cell_type": "code",
   "execution_count": 80,
   "metadata": {},
   "outputs": [],
   "source": [
    "# pickle can save the multi index\n",
    "integrated_data_optimized.to_pickle(\"./data/preprocessed_data.pkl\")"
   ]
  },
  {
   "cell_type": "code",
   "execution_count": null,
   "metadata": {},
   "outputs": [],
   "source": []
  }
 ],
 "metadata": {
  "interpreter": {
   "hash": "61b05ad603197aa669e9be10cf129a311c7c09f5a7d1a95550736e0f0f48c95c"
  },
  "kernelspec": {
   "name": "python3",
   "display_name": "Python 3.7.6 64-bit ('base': conda)"
  },
  "language_info": {
   "codemirror_mode": {
    "name": "ipython",
    "version": 3
   },
   "file_extension": ".py",
   "mimetype": "text/x-python",
   "name": "python",
   "nbconvert_exporter": "python",
   "pygments_lexer": "ipython3",
   "version": "3.7.6"
  }
 },
 "nbformat": 4,
 "nbformat_minor": 2
}